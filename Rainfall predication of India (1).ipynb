{
 "cells": [
  {
   "cell_type": "code",
   "execution_count": 30,
   "metadata": {},
   "outputs": [],
   "source": [
    "#Made by Shivam Vatshayan\n",
    "#For project development and Internship contact to vatshayanshiv1998@gmail.com"
   ]
  },
  {
   "cell_type": "code",
   "execution_count": null,
   "metadata": {},
   "outputs": [],
   "source": [
    "import pandas as pd"
   ]
  },
  {
   "cell_type": "code",
   "execution_count": null,
   "metadata": {},
   "outputs": [],
   "source": [
    "import pandas as np"
   ]
  },
  {
   "cell_type": "code",
   "execution_count": null,
   "metadata": {},
   "outputs": [],
   "source": [
    "import math"
   ]
  },
  {
   "cell_type": "code",
   "execution_count": null,
   "metadata": {},
   "outputs": [],
   "source": [
    "import sklearn"
   ]
  },
  {
   "cell_type": "code",
   "execution_count": null,
   "metadata": {},
   "outputs": [],
   "source": [
    "from sklearn.model_selection import train_test_split"
   ]
  },
  {
   "cell_type": "code",
   "execution_count": null,
   "metadata": {},
   "outputs": [],
   "source": [
    "from sklearn.metrics import mean_squared_error,r2_score,mean_absolute_error"
   ]
  },
  {
   "cell_type": "code",
   "execution_count": 40,
   "metadata": {},
   "outputs": [],
   "source": [
    "import matplotlib.pyplot as plt\n",
    "import seaborn as sb\n",
    "from sklearn import preprocessing"
   ]
  },
  {
   "cell_type": "code",
   "execution_count": 41,
   "metadata": {},
   "outputs": [],
   "source": [
    "data=pd.read_csv(\"rainfall.csv\")"
   ]
  },
  {
   "cell_type": "code",
   "execution_count": 42,
   "metadata": {},
   "outputs": [
    {
     "name": "stdout",
     "output_type": "stream",
     "text": [
      "Data heads:\n",
      "                 SUBDIVISION  YEAR   JAN    FEB   MAR    APR    MAY    JUN  \\\n",
      "0  ANDAMAN & NICOBAR ISLANDS  1901  49.2   87.1  29.2    2.3  528.8  517.5   \n",
      "1  ANDAMAN & NICOBAR ISLANDS  1902   0.0  159.8  12.2    0.0  446.1  537.1   \n",
      "2  ANDAMAN & NICOBAR ISLANDS  1903  12.7  144.0   0.0    1.0  235.1  479.9   \n",
      "3  ANDAMAN & NICOBAR ISLANDS  1904   9.4   14.7   0.0  202.4  304.5  495.1   \n",
      "4  ANDAMAN & NICOBAR ISLANDS  1905   1.3    0.0   3.3   26.9  279.5  628.7   \n",
      "\n",
      "     JUL    AUG    SEP    OCT    NOV    DEC  ANNUAL  Jan-Feb  Mar-May  \\\n",
      "0  365.1  481.1  332.6  388.5  558.2   33.6  3373.2    136.3    560.3   \n",
      "1  228.9  753.7  666.2  197.2  359.0  160.5  3520.7    159.8    458.3   \n",
      "2  728.4  326.7  339.0  181.2  284.4  225.0  2957.4    156.7    236.1   \n",
      "3  502.0  160.1  820.4  222.2  308.7   40.1  3079.6     24.1    506.9   \n",
      "4  368.7  330.5  297.0  260.7   25.4  344.7  2566.7      1.3    309.7   \n",
      "\n",
      "   Jun-Sep  Oct-Dec  \n",
      "0   1696.3    980.3  \n",
      "1   2185.9    716.7  \n",
      "2   1874.0    690.6  \n",
      "3   1977.6    571.0  \n",
      "4   1624.9    630.8  \n",
      "Null values in the dataset before preprocessing:\n",
      "SUBDIVISION     0\n",
      "YEAR            0\n",
      "JAN             4\n",
      "FEB             3\n",
      "MAR             6\n",
      "APR             4\n",
      "MAY             3\n",
      "JUN             5\n",
      "JUL             7\n",
      "AUG             4\n",
      "SEP             6\n",
      "OCT             7\n",
      "NOV            11\n",
      "DEC            10\n",
      "ANNUAL         26\n",
      "Jan-Feb         6\n",
      "Mar-May         9\n",
      "Jun-Sep        10\n",
      "Oct-Dec        13\n",
      "dtype: int64\n",
      "Filling null values with mean of that particular column\n"
     ]
    },
    {
     "ename": "AttributeError",
     "evalue": "module 'pandas' has no attribute 'mean'",
     "output_type": "error",
     "traceback": [
      "\u001b[1;31m---------------------------------------------------------------------------\u001b[0m",
      "\u001b[1;31mAttributeError\u001b[0m                            Traceback (most recent call last)",
      "\u001b[1;32m<ipython-input-42-0aa89ce1842c>\u001b[0m in \u001b[0;36m<module>\u001b[1;34m()\u001b[0m\n\u001b[0;32m      4\u001b[0m \u001b[0mprint\u001b[0m\u001b[1;33m(\u001b[0m\u001b[0mdata\u001b[0m\u001b[1;33m.\u001b[0m\u001b[0misnull\u001b[0m\u001b[1;33m(\u001b[0m\u001b[1;33m)\u001b[0m\u001b[1;33m.\u001b[0m\u001b[0msum\u001b[0m\u001b[1;33m(\u001b[0m\u001b[1;33m)\u001b[0m\u001b[1;33m)\u001b[0m\u001b[1;33m\u001b[0m\u001b[0m\n\u001b[0;32m      5\u001b[0m \u001b[0mprint\u001b[0m\u001b[1;33m(\u001b[0m\u001b[1;34m\"Filling null values with mean of that particular column\"\u001b[0m\u001b[1;33m)\u001b[0m\u001b[1;33m\u001b[0m\u001b[0m\n\u001b[1;32m----> 6\u001b[1;33m \u001b[0mdata\u001b[0m\u001b[1;33m=\u001b[0m\u001b[0mdata\u001b[0m\u001b[1;33m.\u001b[0m\u001b[0mfillna\u001b[0m\u001b[1;33m(\u001b[0m\u001b[0mnp\u001b[0m\u001b[1;33m.\u001b[0m\u001b[0mmean\u001b[0m\u001b[1;33m(\u001b[0m\u001b[0mdata\u001b[0m\u001b[1;33m)\u001b[0m\u001b[1;33m)\u001b[0m\u001b[1;33m\u001b[0m\u001b[0m\n\u001b[0m\u001b[0;32m      7\u001b[0m \u001b[0mprint\u001b[0m\u001b[1;33m(\u001b[0m\u001b[1;34m\"Mean of data:\"\u001b[0m\u001b[1;33m)\u001b[0m\u001b[1;33m\u001b[0m\u001b[0m\n\u001b[0;32m      8\u001b[0m \u001b[0mprint\u001b[0m\u001b[1;33m(\u001b[0m\u001b[0mnp\u001b[0m\u001b[1;33m.\u001b[0m\u001b[0mmean\u001b[0m\u001b[1;33m(\u001b[0m\u001b[0mdata\u001b[0m\u001b[1;33m)\u001b[0m\u001b[1;33m)\u001b[0m\u001b[1;33m\u001b[0m\u001b[0m\n",
      "\u001b[1;31mAttributeError\u001b[0m: module 'pandas' has no attribute 'mean'"
     ]
    }
   ],
   "source": [
    "print(\"Data heads:\")\n",
    "print(data.head())\n",
    "print(\"Null values in the dataset before preprocessing:\")\n",
    "print(data.isnull().sum())\n",
    "print(\"Filling null values with mean of that particular column\")\n",
    "data=data.fillna(np.mean(data))\n",
    "print(\"Mean of data:\")\n",
    "print(np.mean(data))\n",
    "print(\"Null values in the dataset after preprocessing:\")\n",
    "print(data.isnull().sum())\n",
    "print(\"\\n\\nShape: \",data.shape)"
   ]
  },
  {
   "cell_type": "code",
   "execution_count": 44,
   "metadata": {},
   "outputs": [
    {
     "name": "stdout",
     "output_type": "stream",
     "text": [
      "Info:\n",
      "<class 'pandas.core.frame.DataFrame'>\n",
      "RangeIndex: 4116 entries, 0 to 4115\n",
      "Data columns (total 19 columns):\n",
      "SUBDIVISION    4116 non-null object\n",
      "YEAR           4116 non-null int64\n",
      "JAN            4112 non-null float64\n",
      "FEB            4113 non-null float64\n",
      "MAR            4110 non-null float64\n",
      "APR            4112 non-null float64\n",
      "MAY            4113 non-null float64\n",
      "JUN            4111 non-null float64\n",
      "JUL            4109 non-null float64\n",
      "AUG            4112 non-null float64\n",
      "SEP            4110 non-null float64\n",
      "OCT            4109 non-null float64\n",
      "NOV            4105 non-null float64\n",
      "DEC            4106 non-null float64\n",
      "ANNUAL         4090 non-null float64\n",
      "Jan-Feb        4110 non-null float64\n",
      "Mar-May        4107 non-null float64\n",
      "Jun-Sep        4106 non-null float64\n",
      "Oct-Dec        4103 non-null float64\n",
      "dtypes: float64(17), int64(1), object(1)\n",
      "memory usage: 594.9+ KB\n",
      "None\n"
     ]
    }
   ],
   "source": [
    "print(\"Info:\")\n",
    "print(data.info())"
   ]
  },
  {
   "cell_type": "code",
   "execution_count": 45,
   "metadata": {},
   "outputs": [
    {
     "name": "stdout",
     "output_type": "stream",
     "text": [
      "Group by:\n"
     ]
    },
    {
     "data": {
      "text/plain": [
       "SUBDIVISION\n",
       "ANDAMAN & NICOBAR ISLANDS             110\n",
       "ARUNACHAL PRADESH                      97\n",
       "ASSAM & MEGHALAYA                     115\n",
       "BIHAR                                 115\n",
       "CHHATTISGARH                          115\n",
       "COASTAL ANDHRA PRADESH                115\n",
       "COASTAL KARNATAKA                     115\n",
       "EAST MADHYA PRADESH                   115\n",
       "EAST RAJASTHAN                        115\n",
       "EAST UTTAR PRADESH                    115\n",
       "GANGETIC WEST BENGAL                  115\n",
       "GUJARAT REGION                        115\n",
       "HARYANA DELHI & CHANDIGARH            115\n",
       "HIMACHAL PRADESH                      115\n",
       "JAMMU & KASHMIR                       115\n",
       "JHARKHAND                             115\n",
       "KERALA                                115\n",
       "KONKAN & GOA                          115\n",
       "LAKSHADWEEP                           114\n",
       "MADHYA MAHARASHTRA                    115\n",
       "MATATHWADA                            115\n",
       "NAGA MANI MIZO TRIPURA                115\n",
       "NORTH INTERIOR KARNATAKA              115\n",
       "ORISSA                                115\n",
       "PUNJAB                                115\n",
       "RAYALSEEMA                            115\n",
       "SAURASHTRA & KUTCH                    115\n",
       "SOUTH INTERIOR KARNATAKA              115\n",
       "SUB HIMALAYAN WEST BENGAL & SIKKIM    115\n",
       "TAMIL NADU                            115\n",
       "TELANGANA                             115\n",
       "UTTARAKHAND                           115\n",
       "VIDARBHA                              115\n",
       "WEST MADHYA PRADESH                   115\n",
       "WEST RAJASTHAN                        115\n",
       "WEST UTTAR PRADESH                    115\n",
       "dtype: int64"
      ]
     },
     "execution_count": 45,
     "metadata": {},
     "output_type": "execute_result"
    }
   ],
   "source": [
    "print(\"Group by:\")\n",
    "data.groupby('SUBDIVISION').size()"
   ]
  },
  {
   "cell_type": "code",
   "execution_count": 46,
   "metadata": {},
   "outputs": [
    {
     "name": "stdout",
     "output_type": "stream",
     "text": [
      "Co-Variance =                 YEAR          JAN          FEB           MAR           APR  \\\n",
      "YEAR     1098.319127   -62.586292   -26.353058     31.654932     18.003097   \n",
      "JAN       -62.586292  1127.977154   550.101602    628.598212    476.152817   \n",
      "FEB       -26.353058   550.101602  1289.491312    976.198443    893.631482   \n",
      "MAR        31.654932   628.598212   976.198443   2205.187483   1769.653213   \n",
      "APR        18.003097   476.152817   893.631482   1769.653213   4601.067338   \n",
      "MAY        14.679691   536.158548   897.957712   2097.641765   5439.731621   \n",
      "JUN      -105.774951  -265.852518   283.959293   1822.977092   7251.672502   \n",
      "JUL      -145.062020  -466.277526   156.901320   1230.661119   4894.644822   \n",
      "AUG        40.307935    75.664690   489.217493   1197.349704   3280.755182   \n",
      "SEP       -29.937572   110.457760   389.388649   1136.359489   3514.331672   \n",
      "OCT         7.936314    41.352767   -16.365119    402.116378   2483.805405   \n",
      "NOV       -42.738518   155.043743   -57.542304     28.440816    769.446755   \n",
      "DEC       -26.870129   312.200379   201.532383    271.231858    380.122995   \n",
      "ANNUAL   -241.015210  3202.434778  5868.717564  13637.538963  35114.780961   \n",
      "Jan-Feb   -87.747611  1677.558801  1839.883541   1605.089686   1370.097359   \n",
      "Mar-May    70.996578  1637.349028  2762.073420   6071.272275  11777.615229   \n",
      "Jun-Sep  -220.926255  -539.468466  1295.311415   5372.755192  18855.921881   \n",
      "Oct-Dec   -56.189215   509.381252   130.825265    705.351636   3625.069665   \n",
      "\n",
      "                  MAY            JUN            JUL            AUG  \\\n",
      "YEAR        14.679691    -105.774951    -145.062020      40.307935   \n",
      "JAN        536.158548    -265.852518    -466.277526      75.664690   \n",
      "FEB        897.957712     283.959293     156.901320     489.217493   \n",
      "MAR       2097.641765    1822.977092    1230.661119    1197.349704   \n",
      "APR       5439.731621    7251.672502    4894.644822    3280.755182   \n",
      "MAY      15186.841458   16396.999922   11016.951070    7656.579177   \n",
      "JUN      16396.999922   55089.139884   46833.204240   29030.308199   \n",
      "JUL      11016.951070   46833.204240   72651.632105   34925.319260   \n",
      "AUG       7656.579177   29030.308199   34925.319260   35634.292817   \n",
      "SEP       8207.809238   17524.219809   18730.140724   12707.778567   \n",
      "OCT       6477.254028   11429.578491    8027.229951    4706.678765   \n",
      "NOV       2965.753435    3693.877860     790.108496     225.746542   \n",
      "DEC       1301.047476     880.546296    -221.870344      13.127480   \n",
      "ANNUAL   77320.681497  188136.550861  197752.166990  128819.047880   \n",
      "Jan-Feb   1433.060779      14.133555    -305.585413     569.282328   \n",
      "Mar-May  22679.835385   25364.898653   16976.723079   12090.983751   \n",
      "Jun-Sep  43191.205688  148137.651064  173208.567724  112269.366095   \n",
      "Oct-Dec  10723.364015   15983.640349    8570.170618    4904.849470   \n",
      "\n",
      "                  SEP           OCT           NOV          DEC         ANNUAL  \\\n",
      "YEAR       -29.937572      7.936314    -42.738518   -26.870129    -241.015210   \n",
      "JAN        110.457760     41.352767    155.043743   312.200379    3202.434778   \n",
      "FEB        389.388649    -16.365119    -57.542304   201.532383    5868.717564   \n",
      "MAR       1136.359489    402.116378     28.440816   271.231858   13637.538963   \n",
      "APR       3514.331672   2483.805405    769.446755   380.122995   35114.780961   \n",
      "MAY       8207.809238   6477.254028   2965.753435  1301.047476   77320.681497   \n",
      "JUN      17524.219809  11429.578491   3693.877860   880.546296  188136.550861   \n",
      "JUL      18730.140724   8027.229951    790.108496  -221.870344  197752.166990   \n",
      "AUG      12707.778567   4706.678765    225.746542    13.127480  128819.047880   \n",
      "SEP      18335.419886   5171.366589   1428.156298   627.163725   87432.614512   \n",
      "OCT       5171.366589   9904.057979   3264.933364  1185.008209   52703.831690   \n",
      "NOV       1428.156298   3264.933364   4717.685480  1310.233457   19054.245330   \n",
      "DEC        627.163725   1185.008209   1310.233457  1795.183953    7899.471756   \n",
      "ANNUAL   87432.614512  52703.831690  19054.245330  7899.471756  816938.612980   \n",
      "Jan-Feb    498.847383     22.087231     92.879315   514.051904    9071.002089   \n",
      "Mar-May  12790.431298   9353.246755   3750.238732  1937.433044  126071.661328   \n",
      "Jun-Sep  67283.357522  29283.099062   6136.998228  1269.283376  602139.287508   \n",
      "Oct-Dec   7225.702867  14328.622339   9248.618866  4292.579313   79658.063865   \n",
      "\n",
      "             Jan-Feb        Mar-May        Jun-Sep       Oct-Dec  \n",
      "YEAR      -87.747611      70.996578    -220.926255    -56.189215  \n",
      "JAN      1677.558801    1637.349028    -539.468466    509.381252  \n",
      "FEB      1839.883541    2762.073420    1295.311415    130.825265  \n",
      "MAR      1605.089686    6071.272275    5372.755192    705.351636  \n",
      "APR      1370.097359   11777.615229   18855.921881   3625.069665  \n",
      "MAY      1433.060779   22679.835385   43191.205688  10723.364015  \n",
      "JUN        14.133555   25364.898653  148137.651064  15983.640349  \n",
      "JUL      -305.585413   16976.723079  173208.567724   8570.170618  \n",
      "AUG       569.282328   12090.983751  112269.366095   4904.849470  \n",
      "SEP       498.847383   12790.431298   67283.357522   7225.702867  \n",
      "OCT        22.087231    9353.246755   29283.099062  14328.622339  \n",
      "NOV        92.879315    3750.238732    6136.998228   9248.618866  \n",
      "DEC       514.051904    1937.433044    1269.283376   4292.579313  \n",
      "ANNUAL   9071.002089  126071.661328  602139.287508  79658.063865  \n",
      "Jan-Feb  3517.471729    4398.965796     759.036943    632.995794  \n",
      "Mar-May  4398.965796   40528.520455   67034.771422  15015.291822  \n",
      "Jun-Sep   759.036943   67034.771422  500898.074176  36607.368270  \n",
      "Oct-Dec   632.995794   15015.291822   36607.368270  27869.851809  \n",
      "Co-Relation =              YEAR       JAN       FEB       MAR       APR       MAY       JUN  \\\n",
      "YEAR     1.000000 -0.056235 -0.022144  0.020338  0.008007  0.003594 -0.013594   \n",
      "JAN     -0.056235  1.000000  0.456183  0.398502  0.209302  0.129622 -0.033725   \n",
      "FEB     -0.022144  0.456183  1.000000  0.579819  0.367114  0.203062  0.033703   \n",
      "MAR      0.020338  0.398502  0.579819  1.000000  0.556856  0.362815  0.165857   \n",
      "APR      0.008007  0.209302  0.367114  0.556856  1.000000  0.650595  0.457091   \n",
      "MAY      0.003594  0.129622  0.203062  0.362815  0.650595  1.000000  0.567618   \n",
      "JUN     -0.013594 -0.033725  0.033703  0.165857  0.457091  0.567618  1.000000   \n",
      "JUL     -0.016240 -0.051642  0.016235  0.097334  0.268097  0.332283  0.741285   \n",
      "AUG      0.006442  0.011952  0.072159  0.135071  0.256168  0.329499  0.655142   \n",
      "SEP     -0.006670  0.024289  0.080148  0.178904  0.382525  0.492378  0.551890   \n",
      "OCT      0.002406  0.012374 -0.004581  0.086187  0.368886  0.529342  0.490393   \n",
      "NOV     -0.018776  0.067281 -0.023413  0.008814  0.165642  0.351931  0.229718   \n",
      "DEC     -0.019139  0.219701  0.132570  0.136328  0.132892  0.250112  0.088782   \n",
      "ANNUAL  -0.008044  0.105696  0.181563  0.322199  0.577573  0.698013  0.891303   \n",
      "Jan-Feb -0.044653  0.842390  0.863815  0.576366  0.340841  0.196168  0.001016   \n",
      "Mar-May  0.010637  0.242256  0.382620  0.642294  0.864172  0.915019  0.538562   \n",
      "Jun-Sep -0.009418 -0.022748  0.051066  0.162055  0.394859  0.496164  0.893968   \n",
      "Oct-Dec -0.010155  0.090932  0.021878  0.090108  0.321407  0.523684  0.409050   \n",
      "\n",
      "              JUL       AUG       SEP       OCT       NOV       DEC    ANNUAL  \\\n",
      "YEAR    -0.016240  0.006442 -0.006670  0.002406 -0.018776 -0.019139 -0.008044   \n",
      "JAN     -0.051642  0.011952  0.024289  0.012374  0.067281  0.219701  0.105696   \n",
      "FEB      0.016235  0.072159  0.080148 -0.004581 -0.023413  0.132570  0.181563   \n",
      "MAR      0.097334  0.135071  0.178904  0.086187  0.008814  0.136328  0.322199   \n",
      "APR      0.268097  0.256168  0.382525  0.368886  0.165642  0.132892  0.577573   \n",
      "MAY      0.332283  0.329499  0.492378  0.529342  0.351931  0.250112  0.698013   \n",
      "JUN      0.741285  0.655142  0.551890  0.490393  0.229718  0.088782  0.891303   \n",
      "JUL      1.000000  0.686662  0.513067  0.299221  0.042671 -0.019427  0.812279   \n",
      "AUG      0.686662  1.000000  0.497037  0.250600  0.017488  0.001648  0.759304   \n",
      "SEP      0.513067  0.497037  1.000000  0.384138  0.153465  0.109457  0.715135   \n",
      "OCT      0.299221  0.250600  0.384138  1.000000  0.477503  0.281172  0.587065   \n",
      "NOV      0.042671  0.017488  0.153465  0.477503  1.000000  0.451407  0.308768   \n",
      "DEC     -0.019427  0.001648  0.109457  0.281172  0.451407  1.000000  0.207176   \n",
      "ANNUAL   0.812279  0.759304  0.715135  0.587065  0.308768  0.207176  1.000000   \n",
      "Jan-Feb -0.019157  0.050918  0.062131  0.003743  0.022885  0.204848  0.169710   \n",
      "Mar-May  0.313726  0.318347  0.470032  0.468048  0.272268  0.228473  0.696318   \n",
      "Jun-Sep  0.907723  0.840352  0.701980  0.416350  0.126338  0.042440  0.943661   \n",
      "Oct-Dec  0.190400  0.156293  0.319832  0.862761  0.808798  0.606658  0.529596   \n",
      "\n",
      "          Jan-Feb   Mar-May   Jun-Sep   Oct-Dec  \n",
      "YEAR    -0.044653  0.010637 -0.009418 -0.010155  \n",
      "JAN      0.842390  0.242256 -0.022748  0.090932  \n",
      "FEB      0.863815  0.382620  0.051066  0.021878  \n",
      "MAR      0.576366  0.642294  0.162055  0.090108  \n",
      "APR      0.340841  0.864172  0.394859  0.321407  \n",
      "MAY      0.196168  0.915019  0.496164  0.523684  \n",
      "JUN      0.001016  0.538562  0.893968  0.409050  \n",
      "JUL     -0.019157  0.313726  0.907723  0.190400  \n",
      "AUG      0.050918  0.318347  0.840352  0.156293  \n",
      "SEP      0.062131  0.470032  0.701980  0.319832  \n",
      "OCT      0.003743  0.468048  0.416350  0.862761  \n",
      "NOV      0.022885  0.272268  0.126338  0.808798  \n",
      "DEC      0.204848  0.228473  0.042440  0.606658  \n",
      "ANNUAL   0.169710  0.696318  0.943661  0.529596  \n",
      "Jan-Feb  1.000000  0.368551  0.018126  0.064088  \n",
      "Mar-May  0.368551  1.000000  0.472508  0.449004  \n",
      "Jun-Sep  0.018126  0.472508  1.000000  0.310433  \n",
      "Oct-Dec  0.064088  0.449004  0.310433  1.000000  \n"
     ]
    }
   ],
   "source": [
    "print(\"Co-Variance =\",data.cov())\n",
    "print(\"Co-Relation =\",data.corr())"
   ]
  },
  {
   "cell_type": "code",
   "execution_count": 47,
   "metadata": {},
   "outputs": [
    {
     "name": "stdout",
     "output_type": "stream",
     "text": [
      "Index of correlation columns: Index(['ANNUAL', 'Jun-Sep', 'JUN', 'JUL', 'AUG', 'SEP', 'MAY', 'Mar-May',\n",
      "       'OCT', 'APR', 'Oct-Dec', 'MAR', 'NOV', 'DEC', 'FEB', 'Jan-Feb', 'JAN',\n",
      "       'YEAR'],\n",
      "      dtype='object')\n"
     ]
    }
   ],
   "source": [
    "corr_cols=data.corr()['ANNUAL'].sort_values()[::-1]\n",
    "print(\"Index of correlation columns:\",corr_cols.index)"
   ]
  },
  {
   "cell_type": "code",
   "execution_count": 48,
   "metadata": {},
   "outputs": [
    {
     "name": "stdout",
     "output_type": "stream",
     "text": [
      "Scatter plot of annual and january attributes\n"
     ]
    },
    {
     "data": {
      "text/plain": [
       "<matplotlib.collections.PathCollection at 0x994f910>"
      ]
     },
     "execution_count": 48,
     "metadata": {},
     "output_type": "execute_result"
    },
    {
     "data": {
      "image/png": "[encoded data removed]",
      "text/plain": [
       "<matplotlib.figure.Figure at 0x97fd0b0>"
      ]
     },
     "metadata": {},
     "output_type": "display_data"
    }
   ],
   "source": [
    "print(\"Scatter plot of annual and january attributes\")\n",
    "plt.scatter(data.ANNUAL,data.JAN)"
   ]
  },
  {
   "cell_type": "code",
   "execution_count": 49,
   "metadata": {},
   "outputs": [
    {
     "name": "stdout",
     "output_type": "stream",
     "text": [
      "Box Plot of annual rainfall data in years 1901-2015\n"
     ]
    },
    {
     "data": {
      "text/plain": [
       "<matplotlib.axes._subplots.AxesSubplot at 0x995ca10>"
      ]
     },
     "execution_count": 49,
     "metadata": {},
     "output_type": "execute_result"
    },
    {
     "data": {
      "image/png": "[encoded data removed]",
      "text/plain": [
       "<matplotlib.figure.Figure at 0x995c410>"
      ]
     },
     "metadata": {},
     "output_type": "display_data"
    }
   ],
   "source": [
    "print(\"Box Plot of annual rainfall data in years 1901-2015\")\n",
    "data['ANNUAL'].plot(kind='box',sharex=False,sharey=False)"
   ]
  },
  {
   "cell_type": "code",
   "execution_count": 50,
   "metadata": {},
   "outputs": [
    {
     "name": "stdout",
     "output_type": "stream",
     "text": [
      "Histograms showing the data from attributes (JANUARY to DECEMBER) of the years 1901-2015:\n"
     ]
    },
    {
     "data": {
      "text/plain": [
       "<matplotlib.axes._subplots.AxesSubplot at 0x99a6710>"
      ]
     },
     "execution_count": 50,
     "metadata": {},
     "output_type": "execute_result"
    },
    {
     "data": {
      "image/png": "[encoded data removed]",
      "text/plain": [
       "<matplotlib.figure.Figure at 0x999c310>"
      ]
     },
     "metadata": {},
     "output_type": "display_data"
    }
   ],
   "source": [
    "print(\"Histograms showing the data from attributes (JANUARY to DECEMBER) of the years 1901-2015:\")\n",
    "data['JAN'].hist(bins=20)\n",
    "data['FEB'].hist(bins=20)\n",
    "data['MAR'].hist(bins=20)\n",
    "data['APR'].hist(bins=20)\n",
    "data['MAY'].hist(bins=20)\n",
    "data['JUN'].hist(bins=20)\n",
    "data['JUL'].hist(bins=20)\n",
    "data['AUG'].hist(bins=20)\n",
    "data['SEP'].hist(bins=20)\n",
    "data['OCT'].hist(bins=20)\n",
    "data['NOV'].hist(bins=20)\n",
    "data['DEC'].hist(bins=20)"
   ]
  },
  {
   "cell_type": "code",
   "execution_count": 51,
   "metadata": {},
   "outputs": [
    {
     "name": "stdout",
     "output_type": "stream",
     "text": [
      "Histogram showing the annual rainfall of the all states:\n"
     ]
    },
    {
     "data": {
      "text/plain": [
       "<matplotlib.axes._subplots.AxesSubplot at 0x9994eb0>"
      ]
     },
     "execution_count": 51,
     "metadata": {},
     "output_type": "execute_result"
    },
    {
     "data": {
      "image/png": "[encoded data removed]",
      "text/plain": [
       "<matplotlib.figure.Figure at 0x980b390>"
      ]
     },
     "metadata": {},
     "output_type": "display_data"
    }
   ],
   "source": [
    "print(\"Histogram showing the annual rainfall of the all states:\")\n",
    "data['ANNUAL'].hist(bins=20)"
   ]
  },
  {
   "cell_type": "code",
   "execution_count": 52,
   "metadata": {},
   "outputs": [
    {
     "name": "stdout",
     "output_type": "stream",
     "text": [
      "Violin plot of the ANNUAL attribute :-\n"
     ]
    },
    {
     "data": {
      "text/plain": [
       "<matplotlib.axes._subplots.AxesSubplot at 0x995c1b0>"
      ]
     },
     "execution_count": 52,
     "metadata": {},
     "output_type": "execute_result"
    },
    {
     "data": {
      "image/png": "[encoded data removed]",
      "text/plain": [
       "<matplotlib.figure.Figure at 0x988a670>"
      ]
     },
     "metadata": {},
     "output_type": "display_data"
    }
   ],
   "source": [
    "print(\"Violin plot of the ANNUAL attribute :-\")\n",
    "sb.violinplot(data=data['ANNUAL'])"
   ]
  },
  {
   "cell_type": "code",
   "execution_count": null,
   "metadata": {},
   "outputs": [],
   "source": []
  },
  {
   "cell_type": "code",
   "execution_count": null,
   "metadata": {},
   "outputs": [],
   "source": []
  },
  {
   "cell_type": "code",
   "execution_count": null,
   "metadata": {},
   "outputs": [],
   "source": []
  },
  {
   "cell_type": "code",
   "execution_count": null,
   "metadata": {},
   "outputs": [],
   "source": []
  }
 ],
 "metadata": {
  "kernelspec": {
   "display_name": "Python 3",
   "language": "python",
   "name": "python3"
  },
  "language_info": {
   "codemirror_mode": {
    "name": "ipython",
    "version": 3
   },
   "file_extension": ".py",
   "mimetype": "text/x-python",
   "name": "python",
   "nbconvert_exporter": "python",
   "pygments_lexer": "ipython3",
   "version": "3.6.4"
  }
 },
 "nbformat": 4,
 "nbformat_minor": 2
}
